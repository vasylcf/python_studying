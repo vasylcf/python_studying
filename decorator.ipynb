{
 "cells": [
  {
   "cell_type": "code",
   "execution_count": 35,
   "metadata": {},
   "outputs": [],
   "source": [
    "from abc import ABC, abstractmethod"
   ]
  },
  {
   "cell_type": "code",
   "execution_count": 36,
   "metadata": {},
   "outputs": [],
   "source": [
    "class Creature(ABC):\n",
    "    \n",
    "    @abstractmethod\n",
    "    def move(self):\n",
    "        pass\n",
    "    \n",
    "    @abstractmethod\n",
    "    def voice(self):\n",
    "        pass"
   ]
  },
  {
   "cell_type": "code",
   "execution_count": 37,
   "metadata": {},
   "outputs": [],
   "source": [
    "class AbstractDecorator(Creature):\n",
    "    \n",
    "    def __init__(self, base):\n",
    "        self.base = base\n",
    "    \n",
    "    def move(self):\n",
    "        self.base.move()\n",
    "        \n",
    "    def voice(self):\n",
    "        self.base.voice()"
   ]
  },
  {
   "cell_type": "code",
   "execution_count": 39,
   "metadata": {},
   "outputs": [],
   "source": [
    "class Predator(AbstractDecorator):\n",
    "    \n",
    "    def move(self):\n",
    "        print('jump')\n",
    "        \n",
    "class Swimming(AbstractDecorator):\n",
    "    \n",
    "    def voice(self):\n",
    "        print('bul bul')"
   ]
  },
  {
   "cell_type": "code",
   "execution_count": 38,
   "metadata": {},
   "outputs": [],
   "source": [
    "class Animal(Creature):\n",
    "    \n",
    "    def move(self):\n",
    "        print('move forward')\n",
    "    \n",
    "    def voice(self):\n",
    "        print('Auuu!')"
   ]
  },
  {
   "cell_type": "code",
   "execution_count": 40,
   "metadata": {},
   "outputs": [
    {
     "name": "stdout",
     "output_type": "stream",
     "text": [
      "move forward\n",
      "Auuu!\n"
     ]
    }
   ],
   "source": [
    "animal = Animal()\n",
    "animal.move()\n",
    "animal.voice()"
   ]
  },
  {
   "cell_type": "code",
   "execution_count": 41,
   "metadata": {},
   "outputs": [
    {
     "name": "stdout",
     "output_type": "stream",
     "text": [
      "jump\n",
      "Auuu!\n"
     ]
    }
   ],
   "source": [
    "predator = Predator(animal)\n",
    "predator.move()\n",
    "predator.voice()"
   ]
  },
  {
   "cell_type": "code",
   "execution_count": 42,
   "metadata": {},
   "outputs": [
    {
     "name": "stdout",
     "output_type": "stream",
     "text": [
      "move forward\n",
      "bul bul\n"
     ]
    }
   ],
   "source": [
    "swimming = Swimming(animal)\n",
    "swimming.move()\n",
    "swimming.voice()"
   ]
  }
 ],
 "metadata": {
  "kernelspec": {
   "display_name": "Python 3",
   "language": "python",
   "name": "python3"
  },
  "language_info": {
   "codemirror_mode": {
    "name": "ipython",
    "version": 3
   },
   "file_extension": ".py",
   "mimetype": "text/x-python",
   "name": "python",
   "nbconvert_exporter": "python",
   "pygments_lexer": "ipython3",
   "version": "3.7.3"
  }
 },
 "nbformat": 4,
 "nbformat_minor": 2
}
