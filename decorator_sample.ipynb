{
 "cells": [
  {
   "cell_type": "code",
   "execution_count": 11,
   "metadata": {},
   "outputs": [],
   "source": [
    "from abc import ABC, abstractmethod"
   ]
  },
  {
   "cell_type": "code",
   "execution_count": 12,
   "metadata": {},
   "outputs": [],
   "source": [
    "class Creature(ABC):\n",
    "    \n",
    "    \n",
    "    @abstractmethod\n",
    "    def feed(delf):\n",
    "        pass\n",
    "    \n",
    "    @abstractmethod\n",
    "    def move(self):\n",
    "        pass\n",
    "    \n",
    "    @abstractmethod\n",
    "    def make_noise(self):\n",
    "        pass"
   ]
  },
  {
   "cell_type": "code",
   "execution_count": 13,
   "metadata": {},
   "outputs": [],
   "source": [
    "class Animal(Creature):\n",
    "    \n",
    "    \n",
    "    def feed(self):\n",
    "        print('I feed grass')\n",
    "        \n",
    "    def move(self):\n",
    "        print('I walk forward')\n",
    "        \n",
    "    def make_noise(self):\n",
    "        print('WOO!')"
   ]
  },
  {
   "cell_type": "code",
   "execution_count": 14,
   "metadata": {},
   "outputs": [],
   "source": [
    "class AbstractDecorator(Creature):\n",
    "    \n",
    "    \n",
    "    def __init__(self,base):\n",
    "        self.base = base\n",
    "        \n",
    "    def feed(self):\n",
    "        self.base.feed()\n",
    "        \n",
    "    def move(self):\n",
    "        self.base.move()\n",
    "        \n",
    "    def make_noise(self):\n",
    "        self.base.make_noise()"
   ]
  }
 ],
 "metadata": {
  "kernelspec": {
   "display_name": "Python 3",
   "language": "python",
   "name": "python3"
  },
  "language_info": {
   "codemirror_mode": {
    "name": "ipython",
    "version": 3
   },
   "file_extension": ".py",
   "mimetype": "text/x-python",
   "name": "python",
   "nbconvert_exporter": "python",
   "pygments_lexer": "ipython3",
   "version": "3.7.3"
  }
 },
 "nbformat": 4,
 "nbformat_minor": 2
}
